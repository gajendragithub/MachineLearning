{
 "cells": [
  {
   "cell_type": "markdown",
   "metadata": {},
   "source": [
    "## Introduction\n",
    "The MNIST dataset is among one of the most famous image classification problems. This dataset is bit more challenging version of the same root problem. This multiclassification problem consists of classifying letters from A to J from images. The dataset is available on **Kaggle** entitled as *notMNIST Example*.\n",
    "### Problem Context\n",
    "The notMNIST dataset can be used for multiclass image classification task for classifying letters from A to J. The dataset comes in two versions - notMNIST(small) and notMNIST(large). The smaller dataset consists of around 18726 images with 0.5% label error rate and the larger dataset contains around 529119 images with about 6.5% label error rate. Every image contains 28x28 grayscale pixels.<br>\n",
    "In this project, we will build a simple **CNN** model on smaller version of dataset using high level API **keras** for **image classification**, bacause the larger version dataset requires a decent hardware configuration."
   ]
  },
  {
   "cell_type": "markdown",
   "metadata": {},
   "source": [
    "Import Libraries"
   ]
  },
  {
   "cell_type": "code",
   "execution_count": 1,
   "metadata": {},
   "outputs": [
    {
     "name": "stderr",
     "output_type": "stream",
     "text": [
      "Using TensorFlow backend.\n"
     ]
    }
   ],
   "source": [
    "import numpy as np\n",
    "import pandas as pd\n",
    "import cv2\n",
    "import os\n",
    "import time\n",
    "import matplotlib.pyplot as plt\n",
    "import keras\n",
    "from keras.models import Model\n",
    "from keras.layers import Input,Dense,Dropout\n",
    "from keras.layers import Reshape, Flatten\n",
    "from keras.layers import Conv2D,MaxPooling2D\n",
    "from keras.models import Sequential\n",
    "from sklearn.model_selection import train_test_split\n",
    "from sklearn.preprocessing import LabelBinarizer, OneHotEncoder"
   ]
  },
  {
   "cell_type": "markdown",
   "metadata": {
    "collapsed": true
   },
   "source": [
    "Load Dataset :"
   ]
  },
  {
   "cell_type": "code",
   "execution_count": 2,
   "metadata": {
    "collapsed": true
   },
   "outputs": [],
   "source": [
    "images = []\n",
    "labels = []\n",
    "file_path = 'C:/Users/g.singh.choudhary/Desktop/Python/Kaggle Workplace/notMNIST_small/notMNIST_small/'\n",
    "classes = ['A', 'B', 'C', 'D', 'E', 'F', 'G', 'H', 'I', 'J']\n",
    "for classy in classes:\n",
    "    for path in os.listdir(file_path+classy):\n",
    "        image_path = os.path.join(file_path, classy, path)\n",
    "        img = cv2.imread(image_path, 0)\n",
    "        images.append(cv2.resize(img, (28, 28)))\n",
    "        labels.append(classy)"
   ]
  },
  {
   "cell_type": "markdown",
   "metadata": {},
   "source": [
    "Randomly shuffle the data to make our model general and avoid pattern or biasing"
   ]
  },
  {
   "cell_type": "code",
   "execution_count": 3,
   "metadata": {
    "collapsed": true
   },
   "outputs": [],
   "source": [
    "dataset = list(zip(images, labels))\n",
    "np.random.shuffle(dataset)\n",
    "X, Y = zip(*dataset)\n",
    "X = np.asarray(X)\n",
    "Y = np.asarray(Y)"
   ]
  },
  {
   "cell_type": "markdown",
   "metadata": {},
   "source": [
    "Lets plot few images and get insights to see, what are the different images we are dealing with."
   ]
  },
  {
   "cell_type": "code",
   "execution_count": 4,
   "metadata": {},
   "outputs": [
    {
     "data": {
      "image/png": "[encoded data removed]",
      "text/plain": [
       "<matplotlib.figure.Figure at 0x105b87ea90>"
      ]
     },
     "metadata": {},
     "output_type": "display_data"
    }
   ],
   "source": [
    "fig, ax = plt.subplots(2, 3, sharex = True, sharey = True)\n",
    "ax = ax.flatten()\n",
    "for i in range(6):\n",
    "    ax[i].imshow(X[i], cmap = 'gray', interpolation = 'nearest')\n",
    "    ax[i].set_title(Y[i])\n",
    "plt.show()"
   ]
  },
  {
   "cell_type": "code",
   "execution_count": 5,
   "metadata": {},
   "outputs": [
    {
     "data": {
      "text/plain": [
       "((18724, 28, 28), (18724,))"
      ]
     },
     "execution_count": 5,
     "metadata": {},
     "output_type": "execute_result"
    }
   ],
   "source": [
    "X.shape, Y.shape"
   ]
  },
  {
   "cell_type": "code",
   "execution_count": 6,
   "metadata": {
    "collapsed": true
   },
   "outputs": [],
   "source": [
    "X.resize(X.shape[0], 28, 28, 1)\n",
    "Y.resize(Y.shape[0], 1)"
   ]
  },
  {
   "cell_type": "code",
   "execution_count": 7,
   "metadata": {},
   "outputs": [
    {
     "data": {
      "text/plain": [
       "((18724, 28, 28, 1), (18724, 1))"
      ]
     },
     "execution_count": 7,
     "metadata": {},
     "output_type": "execute_result"
    }
   ],
   "source": [
    "X.shape, Y.shape"
   ]
  },
  {
   "cell_type": "markdown",
   "metadata": {},
   "source": [
    "So X contains 18726 samples of 28x28 pixel images and Y contains the labels from A to J"
   ]
  },
  {
   "cell_type": "code",
   "execution_count": 8,
   "metadata": {
    "collapsed": true
   },
   "outputs": [],
   "source": [
    "lb = LabelBinarizer()\n",
    "Y = lb.fit_transform(Y)"
   ]
  },
  {
   "cell_type": "markdown",
   "metadata": {},
   "source": [
    "Splitting our entire dataset into three sets as below:<br>\n",
    "Training set : 80%<br>\n",
    "Validation set : 10%<br>\n",
    "Test Set : 10%<br>"
   ]
  },
  {
   "cell_type": "code",
   "execution_count": 9,
   "metadata": {
    "collapsed": true
   },
   "outputs": [],
   "source": [
    "X_train, X_temp, Y_train, Y_temp = train_test_split(X, Y, test_size = 0.2, random_state = 0)\n",
    "X_val, X_test, Y_val, Y_test = train_test_split(X_temp, Y_temp, test_size = 0.5, random_state = 0)"
   ]
  },
  {
   "cell_type": "markdown",
   "metadata": {},
   "source": [
    "Why? bacause, test set should be completely fresh to the model for testing purpose"
   ]
  },
  {
   "cell_type": "markdown",
   "metadata": {},
   "source": [
    "We can see the shapes of all data sets."
   ]
  },
  {
   "cell_type": "code",
   "execution_count": 10,
   "metadata": {},
   "outputs": [
    {
     "data": {
      "text/plain": [
       "((14979, 28, 28, 1), (14979, 10))"
      ]
     },
     "execution_count": 10,
     "metadata": {},
     "output_type": "execute_result"
    }
   ],
   "source": [
    "X_train.shape, Y_train.shape"
   ]
  },
  {
   "cell_type": "code",
   "execution_count": 11,
   "metadata": {},
   "outputs": [
    {
     "data": {
      "text/plain": [
       "((1872, 28, 28, 1), (1872, 10))"
      ]
     },
     "execution_count": 11,
     "metadata": {},
     "output_type": "execute_result"
    }
   ],
   "source": [
    "X_val.shape, Y_val.shape"
   ]
  },
  {
   "cell_type": "code",
   "execution_count": 12,
   "metadata": {},
   "outputs": [
    {
     "data": {
      "text/plain": [
       "((1873, 28, 28, 1), (1873, 10))"
      ]
     },
     "execution_count": 12,
     "metadata": {},
     "output_type": "execute_result"
    }
   ],
   "source": [
    "X_test.shape, Y_test.shape"
   ]
  },
  {
   "cell_type": "markdown",
   "metadata": {
    "collapsed": true
   },
   "source": [
    "### Deep Learning CNN Model :"
   ]
  },
  {
   "cell_type": "markdown",
   "metadata": {},
   "source": [
    "For implementing a CNN, we will stack up Convolutional Layers, followed by Max Pooling layers. We will also include Dropout to avoid overfitting. Finally, we will add a fully connected ( Dense ) layer followed by a softmax layer. "
   ]
  },
  {
   "cell_type": "code",
   "execution_count": 13,
   "metadata": {
    "collapsed": true
   },
   "outputs": [],
   "source": [
    "input_shape = X[0].shape\n",
    "n_classes  = Y.shape[1]"
   ]
  },
  {
   "cell_type": "markdown",
   "metadata": {},
   "source": [
    "We'll use three bolcks of conovolution layers followed by flatten and fully connnected layer. In each block of convolution layer, we have two layers of convolutional network, one max pooling layer and one drop out layer with 0.3 probabilty for regularization. After convolution blocks and flatten layer we have one fully conncted neural network with 32 neurons and one drop out layer with 50% regularization. The final layer performs classification using softmax activation among our 10 classes."
   ]
  },
  {
   "cell_type": "code",
   "execution_count": 19,
   "metadata": {
    "collapsed": true
   },
   "outputs": [],
   "source": [
    "def create_model():\n",
    "    \n",
    "    model = Sequential()\n",
    "    \n",
    "    model.add(Conv2D(16, (3, 3), padding = 'same', activation ='relu', input_shape = input_shape))\n",
    "    model.add(Conv2D(32, (3, 3), activation='relu'))\n",
    "    model.add(MaxPooling2D(pool_size = (2, 2)))\n",
    "    model.add(Dropout(0.3))\n",
    "    \n",
    "    model.add(Conv2D(32, (3, 3), padding = 'same', activation ='relu', input_shape = input_shape))\n",
    "    model.add(Conv2D(64, (3, 3), activation='relu'))\n",
    "    model.add(MaxPooling2D(pool_size = (2, 2)))\n",
    "    model.add(Dropout(0.3))\n",
    "    \n",
    "    model.add(Conv2D(64, (3, 3), padding = 'same', activation ='relu', input_shape = input_shape))\n",
    "    model.add(Conv2D(128, (3, 3), activation='relu'))\n",
    "    model.add(MaxPooling2D(pool_size = (2, 2)))\n",
    "    model.add(Dropout(0.3))\n",
    "    \n",
    "    model.add(Flatten())\n",
    "    model.add(Dense(32, activation='relu'))\n",
    "    model.add(Dropout(0.5))\n",
    "    model.add(Dense(n_classes, activation='softmax'))\n",
    "    \n",
    "    return model"
   ]
  },
  {
   "cell_type": "markdown",
   "metadata": {},
   "source": [
    "Here we can see the summary of propsed model by compiling it and then calling summary method. The summary method displays all the layers, their ouput shapes and no. of parameters to be trained for that layer."
   ]
  },
  {
   "cell_type": "code",
   "execution_count": 20,
   "metadata": {},
   "outputs": [
    {
     "name": "stdout",
     "output_type": "stream",
     "text": [
      "_________________________________________________________________\n",
      "Layer (type)                 Output Shape              Param #   \n",
      "=================================================================\n",
      "conv2d_13 (Conv2D)           (None, 28, 28, 16)        160       \n",
      "_________________________________________________________________\n",
      "conv2d_14 (Conv2D)           (None, 26, 26, 32)        4640      \n",
      "_________________________________________________________________\n",
      "max_pooling2d_7 (MaxPooling2 (None, 13, 13, 32)        0         \n",
      "_________________________________________________________________\n",
      "dropout_9 (Dropout)          (None, 13, 13, 32)        0         \n",
      "_________________________________________________________________\n",
      "conv2d_15 (Conv2D)           (None, 13, 13, 32)        9248      \n",
      "_________________________________________________________________\n",
      "conv2d_16 (Conv2D)           (None, 11, 11, 64)        18496     \n",
      "_________________________________________________________________\n",
      "max_pooling2d_8 (MaxPooling2 (None, 5, 5, 64)          0         \n",
      "_________________________________________________________________\n",
      "dropout_10 (Dropout)         (None, 5, 5, 64)          0         \n",
      "_________________________________________________________________\n",
      "conv2d_17 (Conv2D)           (None, 5, 5, 64)          36928     \n",
      "_________________________________________________________________\n",
      "conv2d_18 (Conv2D)           (None, 3, 3, 128)         73856     \n",
      "_________________________________________________________________\n",
      "max_pooling2d_9 (MaxPooling2 (None, 1, 1, 128)         0         \n",
      "_________________________________________________________________\n",
      "dropout_11 (Dropout)         (None, 1, 1, 128)         0         \n",
      "_________________________________________________________________\n",
      "flatten_3 (Flatten)          (None, 128)               0         \n",
      "_________________________________________________________________\n",
      "dense_5 (Dense)              (None, 32)                4128      \n",
      "_________________________________________________________________\n",
      "dropout_12 (Dropout)         (None, 32)                0         \n",
      "_________________________________________________________________\n",
      "dense_6 (Dense)              (None, 10)                330       \n",
      "=================================================================\n",
      "Total params: 147,786\n",
      "Trainable params: 147,786\n",
      "Non-trainable params: 0\n",
      "_________________________________________________________________\n"
     ]
    }
   ],
   "source": [
    "model = create_model()\n",
    "model.compile(optimizer='adam', loss='categorical_crossentropy',  metrics=['accuracy'])\n",
    "model.summary()"
   ]
  },
  {
   "cell_type": "code",
   "execution_count": 21,
   "metadata": {},
   "outputs": [
    {
     "name": "stdout",
     "output_type": "stream",
     "text": [
      "Train on 14979 samples, validate on 1872 samples\n",
      "Epoch 1/50\n",
      "14979/14979 [==============================] - 55s 4ms/step - loss: 2.4260 - acc: 0.1764 - val_loss: 1.1765 - val_acc: 0.5956\n",
      "Epoch 2/50\n",
      "14979/14979 [==============================] - 54s 4ms/step - loss: 1.1939 - acc: 0.5745 - val_loss: 0.6264 - val_acc: 0.7746\n",
      "Epoch 3/50\n",
      "14979/14979 [==============================] - 54s 4ms/step - loss: 0.8067 - acc: 0.7248 - val_loss: 0.4225 - val_acc: 0.8739\n",
      "Epoch 4/50\n",
      "14979/14979 [==============================] - 54s 4ms/step - loss: 0.5865 - acc: 0.8146 - val_loss: 0.3263 - val_acc: 0.9017\n",
      "Epoch 5/50\n",
      "14979/14979 [==============================] - 54s 4ms/step - loss: 0.4900 - acc: 0.8472 - val_loss: 0.3004 - val_acc: 0.9071\n",
      "Epoch 6/50\n",
      "14979/14979 [==============================] - 54s 4ms/step - loss: 0.4363 - acc: 0.8665 - val_loss: 0.2866 - val_acc: 0.9199\n",
      "Epoch 7/50\n",
      "14979/14979 [==============================] - 54s 4ms/step - loss: 0.3968 - acc: 0.8790 - val_loss: 0.2757 - val_acc: 0.9247\n",
      "Epoch 8/50\n",
      "14979/14979 [==============================] - 55s 4ms/step - loss: 0.3690 - acc: 0.8903 - val_loss: 0.2439 - val_acc: 0.9290\n",
      "Epoch 9/50\n",
      "14979/14979 [==============================] - 54s 4ms/step - loss: 0.3577 - acc: 0.8922 - val_loss: 0.2602 - val_acc: 0.9279\n",
      "Epoch 10/50\n",
      "14979/14979 [==============================] - 54s 4ms/step - loss: 0.3241 - acc: 0.9001 - val_loss: 0.2662 - val_acc: 0.9257\n",
      "Epoch 11/50\n",
      "14979/14979 [==============================] - 54s 4ms/step - loss: 0.3237 - acc: 0.9021 - val_loss: 0.2580 - val_acc: 0.9311\n",
      "Epoch 12/50\n",
      "14979/14979 [==============================] - 54s 4ms/step - loss: 0.3123 - acc: 0.9053 - val_loss: 0.2346 - val_acc: 0.9295\n",
      "Epoch 13/50\n",
      "14979/14979 [==============================] - 54s 4ms/step - loss: 0.3028 - acc: 0.9077 - val_loss: 0.2290 - val_acc: 0.9290\n",
      "Epoch 14/50\n",
      "14979/14979 [==============================] - 54s 4ms/step - loss: 0.2758 - acc: 0.9131 - val_loss: 0.2195 - val_acc: 0.9338\n",
      "Epoch 15/50\n",
      "14979/14979 [==============================] - 55s 4ms/step - loss: 0.2719 - acc: 0.9172 - val_loss: 0.2303 - val_acc: 0.9375\n",
      "Epoch 16/50\n",
      "14979/14979 [==============================] - 54s 4ms/step - loss: 0.2722 - acc: 0.9173 - val_loss: 0.2001 - val_acc: 0.9343\n",
      "Epoch 17/50\n",
      "14979/14979 [==============================] - 55s 4ms/step - loss: 0.2637 - acc: 0.9185 - val_loss: 0.2265 - val_acc: 0.9354\n",
      "Epoch 18/50\n",
      "14979/14979 [==============================] - 56s 4ms/step - loss: 0.2453 - acc: 0.9247 - val_loss: 0.2288 - val_acc: 0.9407\n",
      "Epoch 19/50\n",
      "14979/14979 [==============================] - 56s 4ms/step - loss: 0.2400 - acc: 0.9277 - val_loss: 0.2557 - val_acc: 0.9284\n",
      "Epoch 20/50\n",
      "14979/14979 [==============================] - 56s 4ms/step - loss: 0.2561 - acc: 0.9234 - val_loss: 0.2017 - val_acc: 0.9396\n",
      "Epoch 21/50\n",
      "14979/14979 [==============================] - 54s 4ms/step - loss: 0.2319 - acc: 0.9282 - val_loss: 0.2078 - val_acc: 0.9407\n",
      "Epoch 22/50\n",
      "14979/14979 [==============================] - 55s 4ms/step - loss: 0.2227 - acc: 0.9327 - val_loss: 0.2234 - val_acc: 0.9322\n",
      "Epoch 23/50\n",
      "14979/14979 [==============================] - 55s 4ms/step - loss: 0.2257 - acc: 0.9323 - val_loss: 0.2112 - val_acc: 0.9407\n",
      "Epoch 24/50\n",
      "14979/14979 [==============================] - 54s 4ms/step - loss: 0.2126 - acc: 0.9352 - val_loss: 0.2288 - val_acc: 0.9354\n",
      "Epoch 25/50\n",
      "14979/14979 [==============================] - 54s 4ms/step - loss: 0.2509 - acc: 0.9233 - val_loss: 0.2160 - val_acc: 0.9380\n",
      "Epoch 26/50\n",
      "14979/14979 [==============================] - 54s 4ms/step - loss: 0.2203 - acc: 0.9346 - val_loss: 0.2204 - val_acc: 0.9338\n",
      "Epoch 27/50\n",
      "14979/14979 [==============================] - 55s 4ms/step - loss: 0.2088 - acc: 0.9352 - val_loss: 0.1940 - val_acc: 0.9375\n",
      "Epoch 28/50\n",
      "14979/14979 [==============================] - 55s 4ms/step - loss: 0.1988 - acc: 0.9391 - val_loss: 0.2018 - val_acc: 0.9428\n",
      "Epoch 29/50\n",
      "14979/14979 [==============================] - 55s 4ms/step - loss: 0.1978 - acc: 0.9372 - val_loss: 0.2204 - val_acc: 0.9391\n",
      "Epoch 30/50\n",
      "14979/14979 [==============================] - 54s 4ms/step - loss: 0.2023 - acc: 0.9374 - val_loss: 0.2240 - val_acc: 0.9402\n",
      "Epoch 31/50\n",
      "14979/14979 [==============================] - 55s 4ms/step - loss: 0.2031 - acc: 0.9374 - val_loss: 0.2407 - val_acc: 0.9364\n",
      "Epoch 32/50\n",
      "14979/14979 [==============================] - 55s 4ms/step - loss: 0.1867 - acc: 0.9420 - val_loss: 0.1994 - val_acc: 0.9391\n",
      "Epoch 33/50\n",
      "14979/14979 [==============================] - 55s 4ms/step - loss: 0.1910 - acc: 0.9398 - val_loss: 0.2060 - val_acc: 0.9402\n",
      "Epoch 34/50\n",
      "14979/14979 [==============================] - 55s 4ms/step - loss: 0.1726 - acc: 0.9435 - val_loss: 0.2250 - val_acc: 0.9434\n",
      "Epoch 35/50\n",
      "14979/14979 [==============================] - 55s 4ms/step - loss: 0.1878 - acc: 0.9437 - val_loss: 0.2165 - val_acc: 0.9450\n",
      "Epoch 36/50\n",
      "14979/14979 [==============================] - 55s 4ms/step - loss: 0.1804 - acc: 0.9423 - val_loss: 0.2303 - val_acc: 0.9407\n",
      "Epoch 37/50\n",
      "14979/14979 [==============================] - 55s 4ms/step - loss: 0.1790 - acc: 0.9435 - val_loss: 0.1993 - val_acc: 0.9434\n",
      "Epoch 38/50\n",
      "14979/14979 [==============================] - 55s 4ms/step - loss: 0.1828 - acc: 0.9413 - val_loss: 0.2267 - val_acc: 0.9428\n",
      "Epoch 39/50\n",
      "14979/14979 [==============================] - 55s 4ms/step - loss: 0.1638 - acc: 0.9471 - val_loss: 0.2203 - val_acc: 0.9450\n",
      "Epoch 40/50\n",
      "14979/14979 [==============================] - 55s 4ms/step - loss: 0.1603 - acc: 0.9499 - val_loss: 0.2153 - val_acc: 0.9407\n",
      "Epoch 41/50\n",
      "14979/14979 [==============================] - 57s 4ms/step - loss: 0.1565 - acc: 0.9496 - val_loss: 0.2269 - val_acc: 0.9439\n",
      "Epoch 42/50\n",
      "14979/14979 [==============================] - 56s 4ms/step - loss: 0.1647 - acc: 0.9477 - val_loss: 0.2336 - val_acc: 0.9455\n",
      "Epoch 43/50\n",
      "14979/14979 [==============================] - 55s 4ms/step - loss: 0.1502 - acc: 0.9544 - val_loss: 0.2312 - val_acc: 0.9455\n",
      "Epoch 44/50\n",
      "14979/14979 [==============================] - 54s 4ms/step - loss: 0.1623 - acc: 0.9502 - val_loss: 0.2196 - val_acc: 0.9466\n",
      "Epoch 45/50\n",
      "14979/14979 [==============================] - 55s 4ms/step - loss: 0.1762 - acc: 0.9452 - val_loss: 0.1990 - val_acc: 0.9450\n",
      "Epoch 46/50\n",
      "14979/14979 [==============================] - 57s 4ms/step - loss: 0.1565 - acc: 0.9521 - val_loss: 0.2288 - val_acc: 0.9434\n",
      "Epoch 47/50\n",
      "14979/14979 [==============================] - 54s 4ms/step - loss: 0.1542 - acc: 0.9529 - val_loss: 0.2259 - val_acc: 0.9434\n",
      "Epoch 48/50\n",
      "14979/14979 [==============================] - 54s 4ms/step - loss: 0.1564 - acc: 0.9520 - val_loss: 0.2304 - val_acc: 0.9423\n",
      "Epoch 49/50\n",
      "14979/14979 [==============================] - 56s 4ms/step - loss: 0.1528 - acc: 0.9517 - val_loss: 0.2208 - val_acc: 0.9460\n",
      "Epoch 50/50\n",
      "14979/14979 [==============================] - 59s 4ms/step - loss: 0.1481 - acc: 0.9573 - val_loss: 0.2336 - val_acc: 0.9455\n",
      "\n",
      "\n",
      "Time Taken to train the CNN Model for Classification is : 2743.58  sec\n"
     ]
    }
   ],
   "source": [
    "start = time.time()\n",
    "cnn = model.fit(X_train, Y_train, epochs = 50, batch_size = 64, validation_data = [X_val, Y_val], verbose = 1)\n",
    "end = time.time()\n",
    "print('\\n\\nTime Taken to train the CNN Model for Classification is : %.2f'%(end-start), ' sec')"
   ]
  },
  {
   "cell_type": "markdown",
   "metadata": {},
   "source": [
    "### Loss :"
   ]
  },
  {
   "cell_type": "markdown",
   "metadata": {},
   "source": [
    "By plotting the model loss history, we can visualize how our model reduced the loss and then it almost got saturated over the epochs."
   ]
  },
  {
   "cell_type": "code",
   "execution_count": 22,
   "metadata": {},
   "outputs": [
    {
     "data": {
      "image/png": "[encoded data removed]",
      "text/plain": [
       "<matplotlib.figure.Figure at 0x10635cf6d8>"
      ]
     },
     "metadata": {},
     "output_type": "display_data"
    }
   ],
   "source": [
    "plt.figure()\n",
    "plt.plot(cnn.history['loss'], 'r')\n",
    "plt.plot(cnn.history['val_loss'], 'b')\n",
    "plt.xlabel('epochs')\n",
    "plt.ylabel('Loss')\n",
    "plt.legend(['Training Loss', 'Validation Loss'])\n",
    "plt.show()"
   ]
  },
  {
   "cell_type": "markdown",
   "metadata": {},
   "source": [
    "After 20 epochs, validation loss is almost saturated, whereas training loss is decreasing at very slow rate."
   ]
  },
  {
   "cell_type": "markdown",
   "metadata": {},
   "source": [
    "### Accuracy :"
   ]
  },
  {
   "cell_type": "markdown",
   "metadata": {},
   "source": [
    "By plotting the model accuracy history, we can visualize how our model imporoved the accuracy for training and validation set over epochs."
   ]
  },
  {
   "cell_type": "code",
   "execution_count": 23,
   "metadata": {},
   "outputs": [
    {
     "data": {
      "image/png": "[encoded data removed]",
      "text/plain": [
       "<matplotlib.figure.Figure at 0x10637706d8>"
      ]
     },
     "metadata": {},
     "output_type": "display_data"
    }
   ],
   "source": [
    "plt.figure()\n",
    "plt.plot(cnn.history['acc'], 'r')\n",
    "plt.plot(cnn.history['val_acc'], 'b')\n",
    "plt.xlabel('epochs')\n",
    "plt.ylabel('Accuracy')\n",
    "plt.legend(['Training Accuracy', 'Validation Accuracy'])\n",
    "plt.show()"
   ]
  },
  {
   "cell_type": "markdown",
   "metadata": {},
   "source": [
    "Here it'sclear that after 20 eopchs, training and validation accuracy both are almost saturated."
   ]
  },
  {
   "cell_type": "markdown",
   "metadata": {},
   "source": [
    "## Test Score :"
   ]
  },
  {
   "cell_type": "code",
   "execution_count": 24,
   "metadata": {},
   "outputs": [
    {
     "name": "stdout",
     "output_type": "stream",
     "text": [
      "1873/1873 [==============================] - 2s 1ms/step\n"
     ]
    }
   ],
   "source": [
    "loss, score = model.evaluate(X_test, Y_test, verbose = True)"
   ]
  },
  {
   "cell_type": "code",
   "execution_count": 25,
   "metadata": {},
   "outputs": [
    {
     "name": "stdout",
     "output_type": "stream",
     "text": [
      "\n",
      "Test set Loss : 0.244286\n",
      "\n",
      "Test Accuracy : 0.940203\n"
     ]
    }
   ],
   "source": [
    "print(\"\\nTest set Loss : %f\"%loss)\n",
    "print('\\nTest Accuracy : %f'%score)"
   ]
  },
  {
   "cell_type": "markdown",
   "metadata": {},
   "source": [
    "He we can summarize our achievement after training 50 epochs for this model:<br><br>\n",
    "**Training Accuracy : 95.73%**<br><br>\n",
    "**Validation Accuracy 94.56: **<br><br>\n",
    "**Test Accuracy : 94.02**<br><br>\n",
    "The score is impressive for seen and unseen data, which confirms that the model is not biased."
   ]
  }
 ],
 "metadata": {
  "kernelspec": {
   "display_name": "Python 3",
   "language": "python",
   "name": "python3"
  },
  "language_info": {
   "codemirror_mode": {
    "name": "ipython",
    "version": 3
   },
   "file_extension": ".py",
   "mimetype": "text/x-python",
   "name": "python",
   "nbconvert_exporter": "python",
   "pygments_lexer": "ipython3",
   "version": "3.6.3"
  }
 },
 "nbformat": 4,
 "nbformat_minor": 2
}
