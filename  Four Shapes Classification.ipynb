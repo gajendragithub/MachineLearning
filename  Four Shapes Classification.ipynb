{
 "cells": [
  {
   "cell_type": "markdown",
   "metadata": {},
   "source": [
    "### **Introduction - Four Shapes**\n",
    "The Four shapes dataset is one of the great dataset for starting to learn classification basics. The dataset is obtained from Kaggle website in which images of four shapes like circle, square, star and triangle are available.\n",
    "\n",
    "**Problem Context**\n",
    "The *Four Shapes* dataset can be used for multiclass image classification task for classifying four shapes as circle, square, star and triangle. The dataset contains around 15k gray-scale images of size 200X200.\n",
    "\n",
    "In this mini project, we will try to build a basic and simple model using sklearn **Logistic Regression**, **MLP Classifier** and **SVM** classifier and then compare its performance."
   ]
  },
  {
   "cell_type": "markdown",
   "metadata": {},
   "source": [
    "Import libraries"
   ]
  },
  {
   "cell_type": "code",
   "execution_count": 47,
   "metadata": {
    "collapsed": true
   },
   "outputs": [],
   "source": [
    "import numpy as np\n",
    "import pandas as pd\n",
    "import matplotlib.pyplot as plt\n",
    "import os, cv2\n",
    "import time"
   ]
  },
  {
   "cell_type": "markdown",
   "metadata": {},
   "source": [
    "Load Dataset : convert image into 64x64, because 200x200 images will be very costly for computation"
   ]
  },
  {
   "cell_type": "code",
   "execution_count": 48,
   "metadata": {
    "collapsed": true
   },
   "outputs": [],
   "source": [
    "images = []\n",
    "labels = []\n",
    "file_path = 'C:/Users/g.singh.choudhary/Desktop/Python/GIT/tensorflow/Four Shapes/shapes/'\n",
    "shapes = ['circle', 'square', 'star', 'triangle']"
   ]
  },
  {
   "cell_type": "code",
   "execution_count": 49,
   "metadata": {},
   "outputs": [],
   "source": [
    "for shape in shapes:\n",
    "    for path in os.listdir(file_path+shape):\n",
    "        img = cv2.imread(file_path+shape+'/'+path, 0)\n",
    "        img_array = np.asarray(cv2.resize(img, (64, 64)))\n",
    "        images.append(img_array)\n",
    "        labels.append(shapes.index(shape))"
   ]
  },
  {
   "cell_type": "markdown",
   "metadata": {},
   "source": [
    "Randomly shuffle the data to make our model general and avoid pattern or biasing"
   ]
  },
  {
   "cell_type": "code",
   "execution_count": 60,
   "metadata": {},
   "outputs": [],
   "source": [
    "dataset = list(zip(images, labels))\n",
    "np.random.shuffle(dataset)\n",
    "X, Y = zip(*dataset)\n",
    "X = np.asarray(X)\n",
    "Y = np.asarray(Y)"
   ]
  },
  {
   "cell_type": "markdown",
   "metadata": {},
   "source": [
    "Lets plot few images and get insights to see, what are the different images we are dealing with."
   ]
  },
  {
   "cell_type": "code",
   "execution_count": 61,
   "metadata": {},
   "outputs": [
    {
     "data": {
      "image/png": "[encoded data removed]",
      "text/plain": [
       "<matplotlib.figure.Figure at 0x3e7feb0da0>"
      ]
     },
     "metadata": {},
     "output_type": "display_data"
    }
   ],
   "source": [
    "fig, ax = plt.subplots(2, 3, sharex = True, sharey = True)\n",
    "ax = ax.flatten()\n",
    "for i in range(6):\n",
    "    ax[i].imshow(X[i], cmap = 'gray', interpolation = 'nearest')\n",
    "    ax[i].set_title((Y[i], shapes[Y[i]]))\n",
    "plt.show()"
   ]
  },
  {
   "cell_type": "markdown",
   "metadata": {},
   "source": [
    "All the images seems fine and are labeled correctly. Now we can build the models using sklrean anf tf.\n",
    "\n",
    "As mentioned previously, the first models we are going to use are **Logistic Regression** (LR), followed by **Support vector machine** (SVM). Because these two algorithms are the most robust and among the most effective machine learning algorithms. It should be noted that to train our LR and SVM on a set of images, we are first required to construct the training matrix for the SVM. Each row in this matrix corresponds to one image which is reshaped from two dimensional to one dimensional numpy array and each element in that row corresponds to one feature (which is 1 pixel) of the class that we wish to classify. And also, we should **normalize** out dataset to learn parameters faster and optimised"
   ]
  },
  {
   "cell_type": "markdown",
   "metadata": {},
   "source": [
    "Important sklearn modules or classes or methods are imported"
   ]
  },
  {
   "cell_type": "code",
   "execution_count": 85,
   "metadata": {
    "collapsed": true
   },
   "outputs": [],
   "source": [
    "from sklearn.model_selection import train_test_split\n",
    "from sklearn.linear_model import LogisticRegression\n",
    "from sklearn.svm import SVC\n",
    "from sklearn.metrics import classification_report, accuracy_score\n",
    "from sklearn.neural_network import MLPClassifier"
   ]
  },
  {
   "cell_type": "code",
   "execution_count": 63,
   "metadata": {
    "collapsed": true
   },
   "outputs": [],
   "source": [
    "X_norm = X/255.\n",
    "\n",
    "X_train, X_test, Y_train, Y_test = train_test_split(X.reshape(X.shape[0], -1), Y, test_size = 0.2, random_state = 0)"
   ]
  },
  {
   "cell_type": "code",
   "execution_count": 84,
   "metadata": {},
   "outputs": [
    {
     "data": {
      "text/plain": [
       "((11976, 4096), (2994, 4096), (11976,), (2994,))"
      ]
     },
     "execution_count": 84,
     "metadata": {},
     "output_type": "execute_result"
    }
   ],
   "source": [
    "X_train.shape, X_test.shape, Y_train.shape, Y_test.shape"
   ]
  },
  {
   "cell_type": "markdown",
   "metadata": {},
   "source": [
    "### Model - 1. LR "
   ]
  },
  {
   "cell_type": "code",
   "execution_count": 78,
   "metadata": {
    "scrolled": true
   },
   "outputs": [],
   "source": [
    "start = time.time()\n",
    "lr = LogisticRegression()\n",
    "lr.fit(X_train, Y_train)\n",
    "end = time.time()"
   ]
  },
  {
   "cell_type": "code",
   "execution_count": 91,
   "metadata": {},
   "outputs": [
    {
     "name": "stdout",
     "output_type": "stream",
     "text": [
      "Time Taken to train LR model :  129.69389390945435  sec\n",
      "\n",
      "Accuracy Score :  1.0\n",
      "\n",
      " Classification Report : \n",
      "              precision    recall  f1-score   support\n",
      "\n",
      "          0       1.00      1.00      1.00       727\n",
      "          1       1.00      1.00      1.00       755\n",
      "          2       1.00      1.00      1.00       766\n",
      "          3       1.00      1.00      1.00       746\n",
      "\n",
      "avg / total       1.00      1.00      1.00      2994\n",
      "\n"
     ]
    }
   ],
   "source": [
    "Y_pred =  lr.predict(X_test)\n",
    "print('Time Taken to train LR model : ',(end-start),' sec')\n",
    "print('\\nAccuracy Score : ',accuracy_score(Y_test, Y_pred))\n",
    "print('\\n Classification Report : \\n', classification_report(Y_test, Y_pred))"
   ]
  },
  {
   "cell_type": "markdown",
   "metadata": {
    "collapsed": true
   },
   "source": [
    "### Model - 2. SVM"
   ]
  },
  {
   "cell_type": "code",
   "execution_count": 81,
   "metadata": {},
   "outputs": [],
   "source": [
    "start = time.time()\n",
    "svc = SVC()\n",
    "svc.fit(X_train, Y_train)\n",
    "end = time.time()"
   ]
  },
  {
   "cell_type": "code",
   "execution_count": 92,
   "metadata": {},
   "outputs": [
    {
     "name": "stdout",
     "output_type": "stream",
     "text": [
      "Time Taken to train SVM model :  129.69389390945435  sec\n",
      "\n",
      "Accuracy Score :  0.257849031396\n",
      "\n",
      " Classification Report : \n",
      "              precision    recall  f1-score   support\n",
      "\n",
      "          0       1.00      0.01      0.01       727\n",
      "          1       0.25      1.00      0.40       755\n",
      "          2       1.00      0.01      0.01       766\n",
      "          3       1.00      0.01      0.02       746\n",
      "\n",
      "avg / total       0.81      0.26      0.11      2994\n",
      "\n"
     ]
    }
   ],
   "source": [
    "Y_pred =  svc.predict(X_test)\n",
    "print('Time Taken to train SVM model : ',(end-start),' sec')\n",
    "print('\\nAccuracy Score : ',accuracy_score(Y_test, Y_pred))\n",
    "print('\\n Classification Report : \\n', classification_report(Y_test, Y_pred))"
   ]
  },
  {
   "cell_type": "markdown",
   "metadata": {},
   "source": [
    "### Model - 3. MLP Classifier"
   ]
  },
  {
   "cell_type": "code",
   "execution_count": 89,
   "metadata": {},
   "outputs": [],
   "source": [
    "start = time.time()\n",
    "mlp = MLPClassifier(hidden_layer_sizes = (500, 50), max_iter = 50)\n",
    "mlp.fit(X_train, Y_train)\n",
    "end = time.time()"
   ]
  },
  {
   "cell_type": "code",
   "execution_count": 93,
   "metadata": {},
   "outputs": [
    {
     "name": "stdout",
     "output_type": "stream",
     "text": [
      "Time Taken to train SVM model :  129.69389390945435  sec\n",
      "\n",
      "Accuracy Score :  0.995991983968\n",
      "\n",
      " Classification Report : \n",
      "              precision    recall  f1-score   support\n",
      "\n",
      "          0       0.99      0.99      0.99       727\n",
      "          1       0.99      0.99      0.99       755\n",
      "          2       1.00      1.00      1.00       766\n",
      "          3       1.00      1.00      1.00       746\n",
      "\n",
      "avg / total       1.00      1.00      1.00      2994\n",
      "\n"
     ]
    }
   ],
   "source": [
    "Y_pred =  mlp.predict(X_test)\n",
    "print('Time Taken to train SVM model : ',(end-start),' sec')\n",
    "print('\\nAccuracy Score : ',accuracy_score(Y_test, Y_pred))\n",
    "print('\\n Classification Report : \\n', classification_report(Y_test, Y_pred))"
   ]
  },
  {
   "cell_type": "markdown",
   "metadata": {},
   "source": [
    "I have reduced the max_iter from dafault value 200 to 50 to process it faster. Still it's 3 times worse LR"
   ]
  },
  {
   "cell_type": "markdown",
   "metadata": {},
   "source": [
    "# \n",
    "Here we can compare the accuracy and computational training time of all three models.<br>\n",
    "**LR = 100% - 44 sec.<br>\n",
    "SVM ~ 26% - 1260 sec. **(output show as a mistake, bacause that cell was run again after mlp, so it's showing mlp's running time)<br>\n",
    "**MLP ~ 100% - 130 sec.**<br>\n",
    "The *Logistic Regression* model performed the best, whereas, *SVM* was worst, even it was 100% accurate and three times faster than MLP. \n",
    "The dataset was very simple to classify images in four different classes using **LR**. but when dataset is little complex and number of classes are more, then **LR** , **MLP** and **SVM** are not the better model to classify multiple classes, bacause these models simply take pixels as features and learn. We'll see how **Convolutional Neural Network** helps to achieve the best accuracy and some awesome techniques like **CNN** layers and **Pooling**."
   ]
  },
  {
   "cell_type": "markdown",
   "metadata": {},
   "source": [
    "### LR, Simplest yet best ! :)"
   ]
  }
 ],
 "metadata": {
  "kernelspec": {
   "display_name": "Python 3",
   "language": "python",
   "name": "python3"
  },
  "language_info": {
   "codemirror_mode": {
    "name": "ipython",
    "version": 3
   },
   "file_extension": ".py",
   "mimetype": "text/x-python",
   "name": "python",
   "nbconvert_exporter": "python",
   "pygments_lexer": "ipython3",
   "version": "3.6.3"
  }
 },
 "nbformat": 4,
 "nbformat_minor": 2
}
